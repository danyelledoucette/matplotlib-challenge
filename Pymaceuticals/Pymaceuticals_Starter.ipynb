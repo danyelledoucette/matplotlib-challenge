{
 "cells": [
  {
   "cell_type": "markdown",
   "metadata": {},
   "source": [
    "# Pymaceuticals Inc.\n",
    "---\n",
    "\n",
    "### Observations and Insights\n",
    "- There seems to be a strong correlation between mouse weight and tumor volume size (0.84). This indicates that as one increases the other does as well.\n",
    "- Without duplicate mice, the total number of mice tested is 248.\n",
    "- Ramicane and Capomulin were tested on the greatest number of mice.\n"
   ]
  },
  {
   "cell_type": "code",
   "execution_count": null,
   "metadata": {},
   "outputs": [],
   "source": [
    "import pandas as pd\n",
    "import matplotlib\n",
    "import matplotlib.pyplot as plt\n",
    "import numpy as np\n",
    "import scipy.stats as st\n",
    "from scipy import stats\n",
    "from scipy.stats import sem\n",
    "\n",
    "mouse_metadata_path = \"Data/Mouse_metadata.csv\"\n",
    "results_path = \"Data/Study_results.csv\"\n",
    "\n",
    "mouse_metadata = pd.read_csv(mouse_metadata_path)\n",
    "results = pd.read_csv(results_path)\n",
    "\n",
    "combined_data = pd.merge(results, mouse_metadata, on='Mouse ID', how='left')\n",
    "combined_data.head()"
   ]
  },
  {
   "cell_type": "code",
   "execution_count": null,
   "metadata": {},
   "outputs": [],
   "source": [
    "# Checking the number of mice.\n",
    "number_of_mice = len(combined_data[\"Mouse ID\"].unique())\n",
    "number_of_mice\n"
   ]
  },
  {
   "cell_type": "code",
   "execution_count": null,
   "metadata": {},
   "outputs": [],
   "source": [
    "# Getting the duplicate mice by ID number that shows up for Mouse ID and Timepoint.\n",
    "duplicate_mice=combined_data.loc[combined_data.duplicated(subset=['Mouse ID', 'Timepoint']),'Mouse ID'].unique()\n",
    "duplicate_mice\n"
   ]
  },
  {
   "cell_type": "code",
   "execution_count": null,
   "metadata": {},
   "outputs": [],
   "source": [
    "# Create a clean DataFrame by dropping the duplicate mouse by its ID.\n",
    "\n",
    "drop_duplicate_id=results.loc[results.duplicated(subset=['Mouse ID','Timepoint']),'Mouse ID'].unique()\n",
    "clean_data=results[results['Mouse ID'].isin(drop_duplicate_id)==False]\n",
    "clean_mouse_df=mouse_metadata[mouse_metadata['Mouse ID'].isin(drop_duplicate_id)==False]\n",
    "\n",
    "clean_combined_data=pd.merge(clean_data,clean_mouse_df, on='Mouse ID')\n",
    "clean_combined_data.head()"
   ]
  },
  {
   "cell_type": "code",
   "execution_count": null,
   "metadata": {},
   "outputs": [],
   "source": [
    "# Optional: Get all the data for the duplicate mouse ID. \n",
    "combined_data_duplicate = combined_data.set_index('Mouse ID')\n",
    "duplicate_mouse_ID=combined_data_duplicate.loc['g989',:]\n",
    "duplicate_mouse_ID\n"
   ]
  },
  {
   "cell_type": "code",
   "execution_count": null,
   "metadata": {},
   "outputs": [],
   "source": [
    "# Checking the number of mice in the clean DataFrame.\n",
    "number_of_mice_clean = len(clean_combined_data[\"Mouse ID\"].unique())\n",
    "number_of_mice_clean\n"
   ]
  },
  {
   "cell_type": "markdown",
   "metadata": {},
   "source": [
    "## Summary Statistics"
   ]
  },
  {
   "cell_type": "code",
   "execution_count": null,
   "metadata": {},
   "outputs": [],
   "source": [
    "# Generate a summary statistics table of mean, median, variance, standard deviation, and SEM of the tumor volume for each regimen\n",
    "\n",
    "# Use groupby and summary statistical methods to calculate the following properties of each drug regimen: \n",
    "# mean, median, variance, standard deviation, and SEM of the tumor volume. \n",
    "# Assemble the resulting series into a single summary dataframe.\n",
    "\n",
    "\n",
    "summary_stats=pd.DataFrame(combined_data.groupby(\"Drug Regimen\").count())\n",
    "\n",
    "summary_stats[\"Mean Tumor Volume\"]=pd.DataFrame(combined_data.groupby('Drug Regimen')['Tumor Volume (mm3)'].mean())\n",
    "summary_stats[\"Median Tumor Volume\"]=pd.DataFrame(combined_data.groupby('Drug Regimen')['Tumor Volume (mm3)'].median())\n",
    "summary_stats[\"Tumor Volume Variance\"]=pd.DataFrame(combined_data.groupby('Drug Regimen')['Tumor Volume (mm3)'].var())\n",
    "summary_stats[\"Tumor Volume Std. Dev.\"]=pd.DataFrame(combined_data.groupby('Drug Regimen')['Tumor Volume (mm3)'].std())\n",
    "summary_stats[\"Tumor Volume Std. Err.\"]=pd.DataFrame(combined_data.groupby('Drug Regimen')['Tumor Volume (mm3)'].sem())\n",
    "\n",
    "summary_stats=summary_stats[[\"Mean Tumor Volume\", \"Median Tumor Volume\", \"Tumor Volume Variance\", \"Tumor Volume Std. Dev.\", \"Tumor Volume Std. Err.\"]]\n",
    "\n",
    "summary_stats\n"
   ]
  },
  {
   "cell_type": "code",
   "execution_count": null,
   "metadata": {},
   "outputs": [],
   "source": [
    "# Generate a summary statistics table of mean, median, variance, standard deviation, and SEM of the tumor volume for each regimen\n",
    "\n",
    "# Using the aggregation method, produce the same summary statistics in a single line\n",
    "\n",
    "groupby_summary_stats=combined_data.groupby('Drug Regimen')\n",
    "summary_stats_2=groupby_summary_stats.agg(['mean','median','var','std','sem'])['Tumor Volume (mm3)']\n",
    "summary_stats_2\n"
   ]
  },
  {
   "cell_type": "markdown",
   "metadata": {},
   "source": [
    "## Bar and Pie Charts"
   ]
  },
  {
   "cell_type": "code",
   "execution_count": null,
   "metadata": {},
   "outputs": [],
   "source": [
    "drug_regimen = clean_combined_data.groupby('Drug Regimen')\n",
    "\n",
    "drug_regimen_count = pd.DataFrame(drug_regimen['Drug Regimen'].count())\n",
    "\n",
    "drug_chart = drug_regimen_count.plot(kind='bar',legend=False)\n",
    "\n",
    "drug_chart.set_title('Number of Unique Mice Tested')\n",
    "drug_chart.set_xlabel(\"Drug Regimen\")\n",
    "drug_chart.set_ylabel(\"Count\")\n",
    "plt.tight_layout()\n",
    "\n",
    "#plt.savefig(\"figures/PandaBarChart.png\")\n",
    "\n",
    "plt.show()\n"
   ]
  },
  {
   "cell_type": "code",
   "execution_count": null,
   "metadata": {},
   "outputs": [],
   "source": [
    "x_axis = np.arange(len(drug_regimen_count))\n",
    "tick_locations = [value for value in x_axis]\n",
    "\n",
    "plt.figure(figsize=(6,4))\n",
    "plt.bar(x_axis, drug_regimen_count[\"Drug Regimen\"], align=\"center\", width = 0.52, label='_nolegend_')\n",
    "plt.xticks(tick_locations, list(drug_regimen_count.index), rotation=\"vertical\")\n",
    "\n",
    "plt.xlim(-0.7, len(x_axis)-0.3)\n",
    "plt.ylim(0, max(drug_regimen_count[\"Drug Regimen\"])*1.05)\n",
    "\n",
    "plt.xlabel(\"Drug Regimen\")\n",
    "plt.ylabel(\"Number of Unique Mice Tested\")\n",
    "\n",
    "column_name = [\"Drug Regimen\"]\n",
    "plt.legend(column_name,loc=\"best\")\n",
    "\n",
    "#plt.savefig(\"figures/PyplotBarChart.png\")\n",
    "plt.show()"
   ]
  },
  {
   "cell_type": "code",
   "execution_count": null,
   "metadata": {},
   "outputs": [],
   "source": [
    "# Generate a pie plot showing the distribution of female versus male mice using pandas\n",
    "group_by_gender=clean_combined_data.groupby('Sex')\n",
    "gender_count = pd.DataFrame(group_by_gender['Sex'].count())\n",
    "gender_count.head()"
   ]
  },
  {
   "cell_type": "code",
   "execution_count": null,
   "metadata": {},
   "outputs": [],
   "source": [
    "gender_count.plot(kind='pie', y='Sex',autopct='%1.1f%%',shadow=False,legend =False,startangle=180)\n",
    "plt.axis(\"equal\")\n",
    "plt.show()"
   ]
  },
  {
   "cell_type": "code",
   "execution_count": null,
   "metadata": {},
   "outputs": [],
   "source": [
    "# Generate a pie plot showing the distribution of female versus male mice using pyplot\n",
    "genders = list(gender_count.index.values)\n",
    "\n",
    "counts_gender = gender_count['Sex']\n",
    "\n",
    "plt.pie(counts_gender,labels=genders,autopct=\"%1.1f%%\",shadow=False, startangle=180)\n",
    "plt.rcParams['font.size']=12\n",
    "plt.ylabel(\"Sex\")\n",
    "plt.axis(\"equal\")\n",
    "#plt.savefig(\"figures/PyplotPieChart.png\")\n",
    "plt.show()"
   ]
  },
  {
   "cell_type": "markdown",
   "metadata": {},
   "source": [
    "## Quartiles, Outliers and Boxplots"
   ]
  },
  {
   "cell_type": "code",
   "execution_count": null,
   "metadata": {},
   "outputs": [],
   "source": [
    "# Calculate the final tumor volume of each mouse across four of the treatment regimens:  \n",
    "# Capomulin, Ramicane, Infubinol, and Ceftamin\n",
    "\n",
    "capomulin=clean_combined_data.loc[clean_combined_data['Drug Regimen']=='Capomulin',:]\n",
    "ramicane=clean_combined_data.loc[clean_combined_data['Drug Regimen']=='Ramicane',:]\n",
    "infubinol=clean_combined_data.loc[clean_combined_data['Drug Regimen']=='Infubinol',:]\n",
    "ceftamin=clean_combined_data.loc[clean_combined_data['Drug Regimen']=='Ceftamin',:]\n",
    "capomulin.head()"
   ]
  },
  {
   "cell_type": "code",
   "execution_count": null,
   "metadata": {},
   "outputs": [],
   "source": [
    "# Start by getting the last (greatest) timepoint for each mouse\n",
    "\n",
    "capomulin_last = capomulin.groupby('Mouse ID').max()['Timepoint']\n",
    "cap_vol=pd.DataFrame(capomulin_last)\n",
    "cap_last_merge=pd.merge(cap_vol, clean_combined_data, on=('Mouse ID','Timepoint'),how='left')\n",
    "cap_last_merge.head()"
   ]
  },
  {
   "cell_type": "code",
   "execution_count": null,
   "metadata": {},
   "outputs": [],
   "source": [
    "cap_tumor=capomulin_merge['Tumor Volume (mm3)']\n",
    "\n",
    "quartiles = cap_tumor.quantile([.25,.5,.75])\n",
    "lowerq = quartiles[0.25]\n",
    "upperq = quartiles[0.75]\n",
    "iqr = upperq-lowerq\n",
    "\n",
    "\n",
    "lower_bound = lowerq - (1.5*iqr)\n",
    "upper_bound = upperq + (1.5*iqr)\n",
    "print(f\"Capomulin potential outliers could be values below {lower_bound} and above {upper_bound} could be outliers.\")\n"
   ]
  },
  {
   "cell_type": "code",
   "execution_count": null,
   "metadata": {},
   "outputs": [],
   "source": [
    "ram_last = ramicane.groupby('Mouse ID').max()['Timepoint']\n",
    "ram_vol=pd.DataFrame(ram_last)\n",
    "ram_last_merge=pd.merge(ram_vol, clean_combined_data, on=('Mouse ID','Timepoint'),how='left')\n",
    "\n",
    "ram_tumor=ram_last_merge['Tumor Volume (mm3)']\n",
    "\n",
    "quartiles = ram_tumor.quantile([.25,.5,.75])\n",
    "lowerq = quartiles[0.25]\n",
    "upperq = quartiles[0.75]\n",
    "iqr = upperq-lowerq\n",
    "\n",
    "lower_bound = lowerq - (1.5*iqr)\n",
    "upper_bound = upperq + (1.5*iqr)\n",
    "print(f\"Ramicane potential outliers could be values below {lower_bound} and above {upper_bound} could be outliers.\")\n"
   ]
  },
  {
   "cell_type": "code",
   "execution_count": null,
   "metadata": {},
   "outputs": [],
   "source": [
    "inf_last = infubinol.groupby('Mouse ID').max()['Timepoint']\n",
    "inf_vol=pd.DataFrame(inf_last)\n",
    "inf_last_merge=pd.merge(inf_vol, clean_combined_data, on=('Mouse ID','Timepoint'),how='left')\n",
    "\n",
    "inf_tumor=inf_last_merge['Tumor Volume (mm3)']\n",
    "\n",
    "quartiles = inf_tumor.quantile([.25,.5,.75])\n",
    "lowerq = quartiles[0.25]\n",
    "upperq = quartiles[0.75]\n",
    "iqr = upperq-lowerq\n",
    "\n",
    "lower_bound = lowerq - (1.5*iqr)\n",
    "upper_bound = upperq + (1.5*iqr)\n",
    "print(f\"Infubinol potential outliers could be values below {lower_bound} and above {upper_bound} could be outliers.\")\n"
   ]
  },
  {
   "cell_type": "code",
   "execution_count": null,
   "metadata": {
    "scrolled": true
   },
   "outputs": [],
   "source": [
    "ceft_last = ceftamin.groupby('Mouse ID').max()['Timepoint']\n",
    "ceft_vol=pd.DataFrame(ceft_last)\n",
    "ceft_last_merge=pd.merge(ceft_vol, clean_combined_data, on=('Mouse ID','Timepoint'),how='left')\n",
    "\n",
    "ceft_tumor=ceft_last_merge['Tumor Volume (mm3)']\n",
    "\n",
    "quartiles = ceft_tumor.quantile([.25,.5,.75])\n",
    "lowerq = quartiles[0.25]\n",
    "upperq = quartiles[0.75]\n",
    "iqr = upperq-lowerq\n",
    "\n",
    "lower_bound = lowerq - (1.5*iqr)\n",
    "upper_bound = upperq + (1.5*iqr)\n",
    "print(f\"Ceftamin potential outliers could be values below {lower_bound} and above {upper_bound} could be outliers.\")\n"
   ]
  },
  {
   "cell_type": "code",
   "execution_count": null,
   "metadata": {},
   "outputs": [],
   "source": [
    "# Generate a box plot of the final tumor volume of each mouse across four regimens of interest\n",
    "tumors_to_plot=[cap_tumor,ram_tumor,inf_tumor,ceft_tumor]\n",
    "\n",
    "fig1, ax1 = plt.subplots()\n",
    "ax1.set_title('Tumors')\n",
    "ax1.set_ylabel('Final Tumor Volume (mm3)')\n",
    "ax1.set_xlabel('Drug Regimen')\n",
    "\n",
    "ax1.boxplot(tumors_to_plot, labels=[\"Capomulin\",\"Ramicane\",\"Infubinol\",\"Ceftamin\",])\n",
    "\n",
    "plt.savefig('boxplot')\n",
    "plt.show()\n"
   ]
  },
  {
   "cell_type": "markdown",
   "metadata": {},
   "source": [
    "## Line and Scatter Plots"
   ]
  },
  {
   "cell_type": "code",
   "execution_count": null,
   "metadata": {},
   "outputs": [],
   "source": [
    "# Generate a line plot of tumor volume vs. time point for a mouse treated with Capomulin\n",
    "capomulin_data = combined_data.loc[combined_data['Drug Regimen'] == 'Capomulin']\n",
    "cap_time_tumor = capomulin_data.groupby(['Timepoint']).agg(\\\n",
    "        Mean_Tumor_Volume=('Tumor Volume (mm3)', np.mean),\\\n",
    "        SEM_Tumor_Volume=('Tumor Volume (mm3)', st.sem)\\\n",
    ").round(3)\n",
    "\n",
    "# View the groupby dataframe \n",
    "cap_time_tumor.head(10)"
   ]
  },
  {
   "cell_type": "code",
   "execution_count": null,
   "metadata": {},
   "outputs": [],
   "source": [
    "single_mouse=capomulin.loc[capomulin['Mouse ID']=='b128',:]\n",
    "single_mouse.head()"
   ]
  },
  {
   "cell_type": "code",
   "execution_count": null,
   "metadata": {},
   "outputs": [],
   "source": [
    "x_axis = single_mouse[\"Timepoint\"]\n",
    "tumor_size = single_mouse[\"Tumor Volume (mm3)\"]\n",
    "\n",
    "plt.title('Capomulin treatmeant of mouse B128')\n",
    "plt.plot(x_axis, tumor_size,linewidth=2, markersize=12)\n",
    "plt.xlabel('Timepoint (Days)')\n",
    "plt.ylabel('Tumor Volume (mm3)')\n",
    "\n",
    "plt.savefig('linechart')\n",
    "plt.show()"
   ]
  },
  {
   "cell_type": "code",
   "execution_count": null,
   "metadata": {},
   "outputs": [],
   "source": [
    "# Groupby Mouse ID using .agg() method and get the weight and mean of tumor volume\n",
    "cap_mouse_id = capomulin_data.groupby(['Mouse ID']).agg(\\\n",
    "        Mouse_weight=('Weight (g)', np.mean),\\\n",
    "        Tumor_vol_mean=('Tumor Volume (mm3)', np.mean)\\\n",
    ").round(3)\n",
    "cap_mouse_id.head(30)"
   ]
  },
  {
   "cell_type": "code",
   "execution_count": null,
   "metadata": {},
   "outputs": [],
   "source": [
    "plt.scatter(\n",
    "    cap_mouse_id['Mouse_weight'],\n",
    "    cap_mouse_id['Tumor_vol_mean'],\n",
    "    marker='o',\n",
    "    facecolors='red',\n",
    "    edgecolors='black',\n",
    "    s=cap_mouse_id['Tumor_vol_mean'],\n",
    "    alpha=.75)\n",
    "\n",
    "# Create a title, x label, and y label for our chart\n",
    "plt.title(\"Mouse weight vs. Avg. Tumor Volume\")\n",
    "plt.xlabel(\"Mouse weight (g)\")\n",
    "plt.ylabel(\"Tumor Volume (mm3)\")\n",
    "# Save the figure\n",
    "#plt.savefig(\"figures/ScatterWeightTumorVol.png\")\n",
    "\n",
    "plt.show()"
   ]
  },
  {
   "cell_type": "code",
   "execution_count": null,
   "metadata": {},
   "outputs": [],
   "source": []
  },
  {
   "cell_type": "markdown",
   "metadata": {},
   "source": [
    "## Correlation and Regression"
   ]
  },
  {
   "cell_type": "code",
   "execution_count": null,
   "metadata": {},
   "outputs": [],
   "source": [
    "# Calculate the correlation coefficient and linear regression model \n",
    "# for mouse weight and average tumor volume for the Capomulin regimen\n",
    "correlation = st.pearsonr(cap_mouse_id['Mouse_weight'],cap_mouse_id['Tumor_vol_mean'])\n",
    "print(f\"The correlation between both factors is {round(correlation[0],2)}\")\n"
   ]
  },
  {
   "cell_type": "code",
   "execution_count": null,
   "metadata": {},
   "outputs": [],
   "source": [
    "x_values = cap_mouse_id['Mouse_weight']\n",
    "y_values = cap_mouse_id['Tumor_vol_mean']\n",
    "res=stats.linregress(x_values,y_values)\n",
    "(slope, intercept, rvalue, pvalue, stderr) = linregress(x_values, y_values)\n",
    "regress_values = x_values * slope + intercept\n",
    "\n",
    "line_eq = f'y = {str(round(slope,2))}x + {str(round(intercept,2))}'\n",
    "plt.scatter(x_values,y_values)\n",
    "plt.plot(x_values,regress_values,\"r-\")\n",
    "plt.annotate(line_eq,(17,37),fontsize=15,color=\"black\")\n",
    "plt.title(\"Mouse weight vs. Avg. Tumor Volume\")\n",
    "plt.xlabel(\"Mouse weight (g)\")\n",
    "plt.ylabel(\"Tumor Volume (mm3)\")\n",
    "print(f\"The r-squared is: {rvalue}\")\n",
    "print(f\"The equation of the regression line is: {line_eq}\")\n",
    "\n",
    "# Save the figure\n",
    "#plt.savefig(\"figures/ScatterWeightTumorVolRegression.png\")\n",
    "\n",
    "plt.show()"
   ]
  },
  {
   "cell_type": "code",
   "execution_count": null,
   "metadata": {},
   "outputs": [],
   "source": []
  }
 ],
 "metadata": {
  "anaconda-cloud": {},
  "kernelspec": {
   "display_name": "Python 3",
   "language": "python",
   "name": "python3"
  },
  "language_info": {
   "codemirror_mode": {
    "name": "ipython",
    "version": 3
   },
   "file_extension": ".py",
   "mimetype": "text/x-python",
   "name": "python",
   "nbconvert_exporter": "python",
   "pygments_lexer": "ipython3",
   "version": "3.8.5"
  }
 },
 "nbformat": 4,
 "nbformat_minor": 4
}
